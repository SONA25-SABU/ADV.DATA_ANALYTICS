{
 "cells": [
  {
   "cell_type": "code",
   "execution_count": 11,
   "metadata": {},
   "outputs": [
    {
     "name": "stdout",
     "output_type": "stream",
     "text": [
      "Original Paragraph:\n",
      "Education is the transmission of knowledge, skills, and character traits and manifests in various forms. Formal education occurs within a structured institutional framework, such as public schools, following a curriculum. Non-formal education also follows a structured approach but occurs outside the formal schooling system, while informal education entails unstructured learning through daily experiences. Formal and non-formal education are categorized into levels, including early childhood education, primary education, secondary education, and tertiary education. Other classifications focus on teaching methods, such as teacher-centered and student-centered education, and on subjects, such as science education, language education, and physical education. Additionally, the term \"education\" can denote the mental states and qualities of educated individuals and the academic field studying educational phenomena.\n",
      "\n",
      "Porter Stemmed Paragraph:\n",
      "educ is the transmiss of knowledg , skill , and charact trait and manifest in variou form . formal educ occur within a structur institut framework , such as public school , follow a curriculum . non-form educ also follow a structur approach but occur outsid the formal school system , while inform educ entail unstructur learn through daili experi . formal and non-form educ are categor into level , includ earli childhood educ , primari educ , secondari educ , and tertiari educ . other classif focu on teach method , such as teacher-cent and student-cent educ , and on subject , such as scienc educ , languag educ , and physic educ . addit , the term `` educ '' can denot the mental state and qualiti of educ individu and the academ field studi educ phenomena .\n",
      "\n",
      "Snowball Stemmed Paragraph:\n",
      "educ is the transmiss of knowledg , skill , and charact trait and manifest in various form . formal educ occur within a structur institut framework , such as public school , follow a curriculum . non-form educ also follow a structur approach but occur outsid the formal school system , while inform educ entail unstructur learn through daili experi . formal and non-form educ are categor into level , includ earli childhood educ , primari educ , secondari educ , and tertiari educ . other classif focus on teach method , such as teacher-cent and student-cent educ , and on subject , such as scienc educ , languag educ , and physic educ . addit , the term `` educ '' can denot the mental state and qualiti of educ individu and the academ field studi educ phenomena .\n",
      "\n",
      "Regexp Stemmed Paragraph:\n",
      "Education is the transmission of knowledge , skills , and character traits and manifests in various forms . Formal education occurs within a structured institutional framework , such as public schools , a curriculum . Non-formal education also follows a structured approach but occurs outside the formal system , while informal education entails unstructured through daily experiences . Formal and non-formal education are categorized into levels , early childhood education , primary education , secondary education , and tertiary education . Other classifications focus on methods , such as teacher-centered and student-centered education , and on subjects , such as science education , language education , and physical education . Additionally , the term `` education '' can denote the mental states and qualities of educated individuals and the academic field educational phenomena .\n"
     ]
    }
   ],
   "source": [
    "import nltk\n",
    "from nltk.stem import PorterStemmer, SnowballStemmer, RegexpStemmer\n",
    "from nltk.tokenize import word_tokenize\n",
    "\n",
    "# Sample paragraph\n",
    "paragraph = \"Education is the transmission of knowledge, skills, and character traits and manifests in various forms. Formal education occurs within a structured institutional framework, such as public schools, following a curriculum. Non-formal education also follows a structured approach but occurs outside the formal schooling system, while informal education entails unstructured learning through daily experiences. Formal and non-formal education are categorized into levels, including early childhood education, primary education, secondary education, and tertiary education. Other classifications focus on teaching methods, such as teacher-centered and student-centered education, and on subjects, such as science education, language education, and physical education. Additionally, the term \\\"education\\\" can denote the mental states and qualities of educated individuals and the academic field studying educational phenomena.\"\n",
    "\n",
    "# Tokenize the paragraph\n",
    "tokens = word_tokenize(paragraph)\n",
    "\n",
    "# Apply Porter Stemmer\n",
    "porter_stemmer = PorterStemmer()\n",
    "stemmed_porter = [porter_stemmer.stem(token) for token in tokens]\n",
    "\n",
    "# Apply Snowball Stemmer\n",
    "snowball_stemmer = SnowballStemmer(language='english')\n",
    "stemmed_snowball = [snowball_stemmer.stem(token) for token in tokens]\n",
    "\n",
    "# Apply Regexp Stemmer\n",
    "regexp_stemmer = RegexpStemmer(r'\\w+ing$')\n",
    "stemmed_regexp = [regexp_stemmer.stem(token) for token in tokens if regexp_stemmer.stem(token)]\n",
    "\n",
    "# Print the results\n",
    "print(\"Original Paragraph:\")\n",
    "print(paragraph)\n",
    "print(\"\\nPorter Stemmed Paragraph:\")\n",
    "print(' '.join(stemmed_porter))\n",
    "print(\"\\nSnowball Stemmed Paragraph:\")\n",
    "print(' '.join(stemmed_snowball))\n",
    "print(\"\\nRegexp Stemmed Paragraph:\")\n",
    "print(' '.join(stemmed_regexp))\n"
   ]
  }
 ],
 "metadata": {
  "kernelspec": {
   "display_name": "Python 3",
   "language": "python",
   "name": "python3"
  },
  "language_info": {
   "codemirror_mode": {
    "name": "ipython",
    "version": 3
   },
   "file_extension": ".py",
   "mimetype": "text/x-python",
   "name": "python",
   "nbconvert_exporter": "python",
   "pygments_lexer": "ipython3",
   "version": "3.11.9"
  }
 },
 "nbformat": 4,
 "nbformat_minor": 2
}
